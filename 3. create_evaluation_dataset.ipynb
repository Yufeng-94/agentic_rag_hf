{
 "cells": [
  {
   "cell_type": "code",
   "execution_count": 10,
   "id": "4236c6ec-0847-4c56-8921-037215691bf1",
   "metadata": {},
   "outputs": [],
   "source": [
    "import os\n",
    "import json\n",
    "import pandas as pd\n",
    "\n",
    "from src.process_html import (\n",
    "    load_documents_from_jsonl,\n",
    ")\n",
    "\n",
    "%load_ext autoreload\n",
    "%autoreload 2"
   ]
  },
  {
   "cell_type": "code",
   "execution_count": 2,
   "id": "e219138b-ee89-4835-a7ec-5f09e5dcba90",
   "metadata": {},
   "outputs": [],
   "source": [
    "data_dir = os.path.join('.', 'data')"
   ]
  },
  {
   "cell_type": "code",
   "execution_count": 3,
   "id": "ff5b304b-a1f6-4b99-99be-4bc6a74434ae",
   "metadata": {},
   "outputs": [],
   "source": [
    "# Reload saved files if not running from the beginning\n",
    "filename = os.path.join(data_dir, \"documents_{}.jsonl\")\n",
    "\n",
    "documents_sports = load_documents_from_jsonl(input_path=filename.format(\"sports\"))\n",
    "documents_finance = load_documents_from_jsonl(input_path=filename.format(\"finance\"))\n",
    "documents_movie = load_documents_from_jsonl(input_path=filename.format(\"movie\"))"
   ]
  },
  {
   "cell_type": "code",
   "execution_count": 5,
   "id": "f6a2c672-2080-4fde-806c-8f7ba5ac5322",
   "metadata": {},
   "outputs": [
    {
     "name": "stdout",
     "output_type": "stream",
     "text": [
      "Num of unique interaction_ids in all three vector databases: 101\n"
     ]
    }
   ],
   "source": [
    "# get all interaction ids in three vector database\n",
    "interaction_ids = []\n",
    "\n",
    "for documents in [documents_sports, documents_finance, documents_movie]:\n",
    "    for doc in documents:\n",
    "        interaction_ids.append(doc.metadata['interaction_id'])\n",
    "\n",
    "interaction_ids = set(interaction_ids)\n",
    "print(\"Num of unique interaction_ids in all three vector databases:\", len(interaction_ids))"
   ]
  },
  {
   "cell_type": "code",
   "execution_count": 6,
   "id": "1d225012-1bd3-4a91-8eb7-a961aafca3b6",
   "metadata": {},
   "outputs": [],
   "source": [
    "# select a subset of interaction_ids as a question set\n",
    "num_questions = 50\n",
    "random_seed = 42\n",
    "question_fraq = num_questions / len(interaction_ids)\n",
    "\n",
    "selected_question_ids = pd.Series(\n",
    "    list(interaction_ids)\n",
    ").sample(\n",
    "    frac=question_fraq, \n",
    "    random_state=random_seed\n",
    ").to_list()"
   ]
  },
  {
   "cell_type": "code",
   "execution_count": 7,
   "id": "f29ead1c-71b3-4854-b848-846e5303f80a",
   "metadata": {},
   "outputs": [],
   "source": [
    "# retrieve metadata, query and answers from raw dataset\n",
    "path = os.path.join(data_dir, \"crag_task_1_and_2_dev_v4.jsonl\")\n",
    "\n",
    "metadata_list = []\n",
    "\n",
    "fields_to_keep = [\n",
    "    'interaction_id', \n",
    "    'domain', \n",
    "    'question_type', \n",
    "    'static_or_dynamic', \n",
    "    'query',\n",
    "    'answer',\n",
    "]\n",
    "\n",
    "with open(path, \"r\", encoding=\"utf-8\") as f:\n",
    "    for i, line in enumerate(f):\n",
    "        record = json.loads(line)\n",
    "        if record['interaction_id'] in selected_question_ids:\n",
    "            subset = {\n",
    "                field: record[field] for field in fields_to_keep\n",
    "            }\n",
    "            \n",
    "            metadata_list.append(subset)"
   ]
  },
  {
   "cell_type": "code",
   "execution_count": 8,
   "id": "b11cb5e1-ce9a-472b-bc1b-d611ee06a836",
   "metadata": {},
   "outputs": [
    {
     "name": "stdout",
     "output_type": "stream",
     "text": [
      "50\n",
      "['aggregation' 'post-processing' 'comparison' 'multi-hop']\n",
      "['movie' 'finance' 'sports']\n",
      "['static']\n"
     ]
    },
    {
     "data": {
      "text/html": [
       "<div>\n",
       "<style scoped>\n",
       "    .dataframe tbody tr th:only-of-type {\n",
       "        vertical-align: middle;\n",
       "    }\n",
       "\n",
       "    .dataframe tbody tr th {\n",
       "        vertical-align: top;\n",
       "    }\n",
       "\n",
       "    .dataframe thead th {\n",
       "        text-align: right;\n",
       "    }\n",
       "</style>\n",
       "<table border=\"1\" class=\"dataframe\">\n",
       "  <thead>\n",
       "    <tr style=\"text-align: right;\">\n",
       "      <th></th>\n",
       "      <th>interaction_id</th>\n",
       "      <th>domain</th>\n",
       "      <th>question_type</th>\n",
       "      <th>static_or_dynamic</th>\n",
       "      <th>query</th>\n",
       "      <th>answer</th>\n",
       "    </tr>\n",
       "  </thead>\n",
       "  <tbody>\n",
       "    <tr>\n",
       "      <th>0</th>\n",
       "      <td>47859020-9974-4c81-a897-96594beca8fb</td>\n",
       "      <td>movie</td>\n",
       "      <td>aggregation</td>\n",
       "      <td>static</td>\n",
       "      <td>how many family movies were there that came ou...</td>\n",
       "      <td>109</td>\n",
       "    </tr>\n",
       "    <tr>\n",
       "      <th>1</th>\n",
       "      <td>80365e4f-795e-4039-8afb-b7a8e8d54285</td>\n",
       "      <td>movie</td>\n",
       "      <td>post-processing</td>\n",
       "      <td>static</td>\n",
       "      <td>what was the average budget for all movies in ...</td>\n",
       "      <td>$147,375,000</td>\n",
       "    </tr>\n",
       "  </tbody>\n",
       "</table>\n",
       "</div>"
      ],
      "text/plain": [
       "                         interaction_id domain    question_type  \\\n",
       "0  47859020-9974-4c81-a897-96594beca8fb  movie      aggregation   \n",
       "1  80365e4f-795e-4039-8afb-b7a8e8d54285  movie  post-processing   \n",
       "\n",
       "  static_or_dynamic                                              query  \\\n",
       "0            static  how many family movies were there that came ou...   \n",
       "1            static  what was the average budget for all movies in ...   \n",
       "\n",
       "         answer  \n",
       "0           109  \n",
       "1  $147,375,000  "
      ]
     },
     "execution_count": 8,
     "metadata": {},
     "output_type": "execute_result"
    }
   ],
   "source": [
    "question_metadata = pd.DataFrame(metadata_list)\n",
    "\n",
    "# sanity check\n",
    "print(len(question_metadata))\n",
    "print(question_metadata['question_type'].unique())\n",
    "print(question_metadata['domain'].unique())\n",
    "print(question_metadata['static_or_dynamic'].unique())\n",
    "\n",
    "question_metadata.head(2)"
   ]
  },
  {
   "cell_type": "code",
   "execution_count": 9,
   "id": "7912fc74-4e48-452b-960e-81c3fd5acd6e",
   "metadata": {},
   "outputs": [],
   "source": [
    "question_metadata.to_csv(\n",
    "    os.path.join(data_dir, \"question_metadata.csv\"),\n",
    "    index=False\n",
    ")"
   ]
  },
  {
   "cell_type": "code",
   "execution_count": null,
   "id": "08d33b9a-9e14-4c83-800f-2698cc87c017",
   "metadata": {},
   "outputs": [],
   "source": []
  }
 ],
 "metadata": {
  "kernelspec": {
   "display_name": "Python 3 (ipykernel)",
   "language": "python",
   "name": "python3"
  },
  "language_info": {
   "codemirror_mode": {
    "name": "ipython",
    "version": 3
   },
   "file_extension": ".py",
   "mimetype": "text/x-python",
   "name": "python",
   "nbconvert_exporter": "python",
   "pygments_lexer": "ipython3",
   "version": "3.12.7"
  }
 },
 "nbformat": 4,
 "nbformat_minor": 5
}
