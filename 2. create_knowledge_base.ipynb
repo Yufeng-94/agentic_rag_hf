{
 "cells": [
  {
   "cell_type": "code",
   "execution_count": 1,
   "id": "dac8d047-6d7e-4a1b-9d3b-eb9b1bafdd93",
   "metadata": {},
   "outputs": [
    {
     "name": "stderr",
     "output_type": "stream",
     "text": [
      "/home/eric/.cache/pypoetry/virtualenvs/rag-test-5kzNQnVy-py3.12/lib/python3.12/site-packages/tqdm/auto.py:21: TqdmWarning: IProgress not found. Please update jupyter and ipywidgets. See https://ipywidgets.readthedocs.io/en/stable/user_install.html\n",
      "  from .autonotebook import tqdm as notebook_tqdm\n"
     ]
    }
   ],
   "source": [
    "import os\n",
    "import json\n",
    "import pandas as pd\n",
    "\n",
    "from langchain_community.embeddings import HuggingFaceEmbeddings\n",
    "from langchain.text_splitter import RecursiveCharacterTextSplitter\n",
    "from langchain.vectorstores import FAISS\n",
    "from langchain.vectorstores.utils import DistanceStrategy\n",
    "\n",
    "from transformers import AutoTokenizer\n",
    "\n",
    "from src.process_html import (\n",
    "    load_documents_from_jsonl,\n",
    ")\n",
    "\n",
    "%load_ext autoreload\n",
    "%autoreload 2"
   ]
  },
  {
   "cell_type": "markdown",
   "id": "d672c16f-1576-46eb-b439-46d74a301dcc",
   "metadata": {},
   "source": [
    "# 1. Import Documents\n",
    "\n",
    "Import cleaned Documents from notebook `1. data_cleaning.ipynb`."
   ]
  },
  {
   "cell_type": "code",
   "execution_count": 2,
   "id": "5a771449-3a6f-4dd1-897b-89b7d4c90285",
   "metadata": {},
   "outputs": [],
   "source": [
    "data_dir = os.path.join('.', 'data')"
   ]
  },
  {
   "cell_type": "code",
   "execution_count": 3,
   "id": "c873c234-de51-4d86-9c74-fcbcedd1ed79",
   "metadata": {},
   "outputs": [],
   "source": [
    "# Reload saved files if not running from the beginning\n",
    "filename = os.path.join(data_dir, \"documents_{}.jsonl\")\n",
    "\n",
    "documents_sports = load_documents_from_jsonl(input_path=filename.format(\"sports\"))\n",
    "documents_finance = load_documents_from_jsonl(input_path=filename.format(\"finance\"))\n",
    "documents_movie = load_documents_from_jsonl(input_path=filename.format(\"movie\"))"
   ]
  },
  {
   "cell_type": "code",
   "execution_count": 8,
   "id": "3563e2d8-98b0-4ecb-8335-06b18b50a6a7",
   "metadata": {},
   "outputs": [
    {
     "name": "stdout",
     "output_type": "stream",
     "text": [
      "page_content='PPG\n",
      "14.3\n",
      "RPG\n",
      "3.0\n",
      "APG\n",
      "8.5\n",
      "HEIGHT\n",
      "6'3\" (1.91m)\n",
      "WEIGHT\n",
      "178lb (81kg)\n",
      "COUNTRY\n",
      "Canada\n",
      "LAST ATTENDED\n",
      "Santa Clara\n",
      "BIRTHDATE\n",
      "February 7, 1974\n",
      "DRAFT\n",
      "1996 R1 Pick 15\n",
      "EXPERIENCE\n",
      "19 Years\n",
      "6'3\" | 178lb\n",
      "DRAFT\n",
      "1996 R1 Pick 15\n",
      "BIRTHDATE\n",
      "February 7, 1974\n",
      "COUNTRY\n",
      "Canada\n",
      "LAST ATTENDED\n",
      "Santa Clara\n",
      "EXPERIENCE\n",
      "19 Years\n",
      "| Stat | Career |' metadata={'source': 'https://www.nba.com/player/959/steve-nash/', 'title': 'Steve Nash | Phoenix Suns', 'description': 'Steve Nash Stats and news - NBA stats and news on Phoenix Suns Guard Steve Nash', 'interaction_id': '7bb29eb4-12f9-45f9-bf8a-66832b3c8962'}\n"
     ]
    }
   ],
   "source": [
    "# A sample of Document\n",
    "print(documents_sports[2])"
   ]
  },
  {
   "cell_type": "markdown",
   "id": "c73b17af-eb7c-406c-bce2-20831202a794",
   "metadata": {},
   "source": [
    "# 2. Setup Embedding Model\n",
    "\n",
    "Might need to login Huggingface by runing `huggingface-cli login` in terminal."
   ]
  },
  {
   "cell_type": "code",
   "execution_count": 4,
   "id": "e6e8f77c-e348-450b-b8a5-1956b0ef446f",
   "metadata": {},
   "outputs": [
    {
     "name": "stderr",
     "output_type": "stream",
     "text": [
      "/tmp/ipykernel_1202010/3413068473.py:3: LangChainDeprecationWarning: The class `HuggingFaceEmbeddings` was deprecated in LangChain 0.2.2 and will be removed in 1.0. An updated version of the class exists in the :class:`~langchain-huggingface package and should be used instead. To use it run `pip install -U :class:`~langchain-huggingface` and import as `from :class:`~langchain_huggingface import HuggingFaceEmbeddings``.\n",
      "  embedding_model = HuggingFaceEmbeddings(\n"
     ]
    }
   ],
   "source": [
    "EMBEDDING_MODEL_NAME = \"thenlper/gte-small\"\n",
    "\n",
    "embedding_model = HuggingFaceEmbeddings(\n",
    "    model_name=EMBEDDING_MODEL_NAME,\n",
    "    multi_process=True,\n",
    "    model_kwargs={\"device\": \"cuda\"},\n",
    "    encode_kwargs={\"normalize_embeddings\": True},\n",
    ")"
   ]
  },
  {
   "cell_type": "code",
   "execution_count": 5,
   "id": "7cccab50-719f-4add-bcd0-64322f7dd6ac",
   "metadata": {},
   "outputs": [],
   "source": [
    "# get tokenizer\n",
    "embedding_tokenizer = AutoTokenizer.from_pretrained(EMBEDDING_MODEL_NAME)"
   ]
  },
  {
   "cell_type": "markdown",
   "id": "6e7f8765-0dd1-4d0e-9741-b2ed5253e5cf",
   "metadata": {},
   "source": [
    "# 3. Split Documents into Chunks"
   ]
  },
  {
   "cell_type": "code",
   "execution_count": 6,
   "id": "b5a8862d-b972-4dfe-b364-caf2c96e5192",
   "metadata": {},
   "outputs": [],
   "source": [
    "# Config\n",
    "MARKDOWN_SEPARATORS = [\n",
    "    \"\\n#{1,6} \",\n",
    "    \"```\\n\",\n",
    "    \"\\n\\\\*\\\\*\\\\*+\\n\",\n",
    "    \"\\n---+\\n\",\n",
    "    \"\\n___+\\n\",\n",
    "    \"\\n\\n\",\n",
    "    \"\\n\",\n",
    "    \" \",\n",
    "    \"\",\n",
    "]\n",
    "\n",
    "CHUNK_SIZE = 512 # max input length of EMBEDDING_MODEL\n",
    "CUNK_OVERLAP = 64"
   ]
  },
  {
   "cell_type": "code",
   "execution_count": 7,
   "id": "a09681e9-161c-41f1-a5af-cd3ee397f338",
   "metadata": {},
   "outputs": [],
   "source": [
    "spliter = RecursiveCharacterTextSplitter.from_huggingface_tokenizer(\n",
    "    tokenizer=embedding_tokenizer,\n",
    "    chunk_size=CHUNK_SIZE, \n",
    "    chunk_overlap=CUNK_OVERLAP,\n",
    "    add_start_index=True,\n",
    "    strip_whitespace=True,\n",
    "    separators=MARKDOWN_SEPARATORS,\n",
    ")"
   ]
  },
  {
   "cell_type": "code",
   "execution_count": 8,
   "id": "966976d6-2798-440b-9bd9-f4c49f249076",
   "metadata": {},
   "outputs": [],
   "source": [
    "sport_chunks = spliter.split_documents(documents_sports)\n",
    "finance_chunks = spliter.split_documents(documents_finance)\n",
    "movie_chunks = spliter.split_documents(documents_movie)"
   ]
  },
  {
   "cell_type": "code",
   "execution_count": 19,
   "id": "cf312c42-bd11-4f25-b92e-804f9f50055f",
   "metadata": {},
   "outputs": [
    {
     "name": "stdout",
     "output_type": "stream",
     "text": [
      "page_content='Microsoft Stock Filter Stocks by Fundamentals\n",
      "| MSFT Stock | USD 402.65 12.27 2.96% |\n",
      "Microsoft fundamentals help investors to digest information that contributes to Microsoft's financial success or failures. It also enables traders to predict the movement of Microsoft Stock. The fundamental analysis module provides a way to measure Microsoft's intrinsic value by examining its available economic and financial indicators, including the cash flow records, the balance sheet account changes, the income statement patterns, and various microeconomic indicators and financial ratios related to Microsoft stock.\n",
      "Microsoft | Debt to Equity |\n",
      "Microsoft Debt to Equity Analysis\n",
      "| 2021 | 2022 | 2023 | 2024 (projected) | Capital Expenditures | 23.9B | 28.1B | 32.3B | 33.9B | Depreciation | 14.5B | 13.9B | 15.9B | 16.7B |\n",
      "Microsoft Debt to Equity Driver Correlations\n",
      "Understanding the fundamental principles of building solid financial models for Microsoft is extremely important. It helps to project a fair market value of Microsoft Stock properly, considering its historical fundamentals such as Debt to Equity. Since Microsoft's main accounts across its financial reports are all linked and dependent on each other, it is essential to analyze all possible correlations between related accounts. However, instead of reviewing all of Microsoft's historical financial statements, investors can examine the correlated drivers to determine its overall health. This can be effectively done using a conventional correlation matrix of Microsoft's interrelated accounts and indicators.\n",
      "Click cells to compare fundamentals\n",
      "| Competition |\n",
      "Microsoft Total Stockholder Equity\n",
      "Total Stockholder Equity |\n",
      "|\n",
      "According to the company disclosure, Microsoft has a Debt to Equity of 0.0null. This indicator is about the same for the Software average (which is currently at 0.0) sector and about the same as Debt to Equity (which currently averages 0.0) industry. This indicator is about the same for all United States stocks average (which is currently at 0.0).\n",
      "Did you try this?\n",
      "Run Bollinger Bands Now\n",
      "Bollinger BandsUse Bollinger Bands indicator to analyze target price for a given investing horizon |\n",
      "| All Next | Launch Module |\n",
      "Microsoft ESG Sustainability' metadata={'source': 'https://www.macroaxis.com/', 'title': 'Microsoft Debt to Equity | (NASDAQ:MSFT)', 'description': 'Analysis of Microsoft Debt to Equity for 2024 including historical trends for the last ten years', 'interaction_id': 'fa3412c6-4c86-4574-aeb6-66456bc79970', 'start_index': 0}\n"
     ]
    }
   ],
   "source": [
    "# A sample of chunked Document\n",
    "print(finance_chunks[4])"
   ]
  },
  {
   "cell_type": "code",
   "execution_count": 9,
   "id": "9cfc1933-3d23-4ef6-b5e4-664d2110e138",
   "metadata": {},
   "outputs": [],
   "source": [
    "# Create a unified chunk for evaluation usage\n",
    "unified_chunk = sport_chunks + finance_chunks + movie_chunks"
   ]
  },
  {
   "cell_type": "markdown",
   "id": "023bbabf-3abe-439c-87b8-9383076d052a",
   "metadata": {},
   "source": [
    "# 4. Create Vector Database\n",
    "\n",
    "Create vector database for each of the three selected domains."
   ]
  },
  {
   "cell_type": "code",
   "execution_count": 21,
   "id": "ffc129f3-1f40-4083-987b-be5a351bb2a9",
   "metadata": {},
   "outputs": [],
   "source": [
    "sports_vector_db = FAISS.from_documents(\n",
    "    documents=sport_chunks,\n",
    "    embedding=embedding_model,\n",
    "    distance_strategy=DistanceStrategy.COSINE,\n",
    ")\n",
    "\n",
    "finance_vector_db = FAISS.from_documents(\n",
    "    documents=finance_chunks,\n",
    "    embedding=embedding_model,\n",
    "    distance_strategy=DistanceStrategy.COSINE,\n",
    ")\n",
    "\n",
    "movie_vector_db = FAISS.from_documents(\n",
    "    documents=movie_chunks,\n",
    "    embedding=embedding_model,\n",
    "    distance_strategy=DistanceStrategy.COSINE,\n",
    ")"
   ]
  },
  {
   "cell_type": "code",
   "execution_count": 10,
   "id": "06d177a4-2c74-40ff-bb84-636ceea7f6e3",
   "metadata": {},
   "outputs": [],
   "source": [
    "# create a unified vector db for evaluation usage\n",
    "unified_vector_db = FAISS.from_documents(\n",
    "    documents=unified_chunk,\n",
    "    embedding=embedding_model,\n",
    "    distance_strategy=DistanceStrategy.COSINE,\n",
    ")"
   ]
  },
  {
   "cell_type": "code",
   "execution_count": null,
   "id": "9c5ffef5-b6ae-4718-bbe6-f2397d3a8ff0",
   "metadata": {},
   "outputs": [],
   "source": [
    "# save vector dbs to disk\n",
    "db_dir = os.path.join(data_dir, \"faiss\")\n",
    "\n",
    "sports_vector_db.save_local(\n",
    "    os.path.join(db_dir, \"sports\")\n",
    ")\n",
    "\n",
    "finance_vector_db.save_local(\n",
    "    os.path.join(db_dir, \"finance\")\n",
    ")\n",
    "\n",
    "movie_vector_db.save_local(\n",
    "    os.path.join(db_dir, \"movie\")\n",
    ")"
   ]
  },
  {
   "cell_type": "code",
   "execution_count": 11,
   "id": "fa6ee98a-bea5-4bab-b3db-eafd88b4058e",
   "metadata": {},
   "outputs": [
    {
     "ename": "NameError",
     "evalue": "name 'db_dir' is not defined",
     "output_type": "error",
     "traceback": [
      "\u001b[31m---------------------------------------------------------------------------\u001b[39m",
      "\u001b[31mNameError\u001b[39m                                 Traceback (most recent call last)",
      "\u001b[36mCell\u001b[39m\u001b[36m \u001b[39m\u001b[32mIn[11]\u001b[39m\u001b[32m, line 2\u001b[39m\n\u001b[32m      1\u001b[39m unified_vector_db.save_local(\n\u001b[32m----> \u001b[39m\u001b[32m2\u001b[39m     os.path.join(\u001b[43mdb_dir\u001b[49m, \u001b[33m\"\u001b[39m\u001b[33munified\u001b[39m\u001b[33m\"\u001b[39m)\n\u001b[32m      3\u001b[39m )\n",
      "\u001b[31mNameError\u001b[39m: name 'db_dir' is not defined"
     ]
    }
   ],
   "source": [
    "unified_vector_db.save_local(\n",
    "    os.path.join(db_dir, \"unified\")\n",
    ")"
   ]
  },
  {
   "cell_type": "code",
   "execution_count": null,
   "id": "b1f29620-431f-44cc-a426-385d1fcaac62",
   "metadata": {},
   "outputs": [],
   "source": []
  }
 ],
 "metadata": {
  "kernelspec": {
   "display_name": "Python 3 (ipykernel)",
   "language": "python",
   "name": "python3"
  },
  "language_info": {
   "codemirror_mode": {
    "name": "ipython",
    "version": 3
   },
   "file_extension": ".py",
   "mimetype": "text/x-python",
   "name": "python",
   "nbconvert_exporter": "python",
   "pygments_lexer": "ipython3",
   "version": "3.12.7"
  }
 },
 "nbformat": 4,
 "nbformat_minor": 5
}
